{
 "cells": [
  {
   "cell_type": "code",
   "execution_count": 1,
   "metadata": {},
   "outputs": [],
   "source": [
    "#### PACKAGE AND DATA IMPORTS\n",
    "##########################\n",
    "import pandas as pd\n",
    "import numpy as np\n",
    "from sklearn.preprocessing import Imputer\n",
    "from sklearn.decomposition import PCA\n",
    "from sklearn.model_selection import train_test_split, GridSearchCV\n",
    "from sklearn.metrics import precision_score, accuracy_score\n",
    "from sklearn.linear_model import LogisticRegression\n",
    "from sklearn.tree import DecisionTreeClassifier\n",
    "from sklearn.preprocessing import StandardScaler\n",
    "from sklearn.pipeline import Pipeline\n",
    "import matplotlib.pyplot as plt\n",
    "import seaborn as sns\n",
    "%matplotlib inline\n",
    "\n",
    "test_df = pd.read_csv('./kaggle_data/test.csv')\n",
    "train_df = pd.read_csv('./kaggle_data/train.csv')\n",
    "weather_df = pd.read_csv('./kaggle_data/weather.csv')"
   ]
  },
  {
   "cell_type": "code",
   "execution_count": 2,
   "metadata": {},
   "outputs": [],
   "source": [
    "#### CLEANING AND COMBINING\n",
    "#########################\n",
    "\n",
    "# creating daily_weather data df using only one station\n",
    "daily_weather = weather_df[weather_df['Station'] == 1] "
   ]
  },
  {
   "cell_type": "code",
   "execution_count": 3,
   "metadata": {},
   "outputs": [
    {
     "name": "stderr",
     "output_type": "stream",
     "text": [
      "/home/ryan/anaconda3/lib/python3.6/site-packages/pandas/core/frame.py:3694: SettingWithCopyWarning: \n",
      "A value is trying to be set on a copy of a slice from a DataFrame\n",
      "\n",
      "See the caveats in the documentation: http://pandas.pydata.org/pandas-docs/stable/indexing.html#indexing-view-versus-copy\n",
      "  errors=errors)\n"
     ]
    }
   ],
   "source": [
    "# dropping station label since all are station 1\n",
    "daily_weather.drop('Station', axis= 1, inplace=True) "
   ]
  },
  {
   "cell_type": "code",
   "execution_count": 4,
   "metadata": {},
   "outputs": [
    {
     "name": "stderr",
     "output_type": "stream",
     "text": [
      "/home/ryan/anaconda3/lib/python3.6/site-packages/ipykernel_launcher.py:4: SettingWithCopyWarning: \n",
      "A value is trying to be set on a copy of a slice from a DataFrame.\n",
      "Try using .loc[row_indexer,col_indexer] = value instead\n",
      "\n",
      "See the caveats in the documentation: http://pandas.pydata.org/pandas-docs/stable/indexing.html#indexing-view-versus-copy\n",
      "  after removing the cwd from sys.path.\n"
     ]
    }
   ],
   "source": [
    "# datetime index on weather data\n",
    "daily_weather.reset_index(inplace=True, drop=True) \n",
    "\n",
    "daily_weather['Date'] = pd.to_datetime(daily_weather['Date']) \n",
    "\n",
    "daily_weather.set_index('Date',inplace=True, drop=True) "
   ]
  },
  {
   "cell_type": "code",
   "execution_count": 5,
   "metadata": {},
   "outputs": [],
   "source": [
    "#datetime index on training data\n",
    "train_df['Date'] = pd.to_datetime(train_df['Date']) \n",
    "test_df['Date'] = pd.to_datetime(test_df['Date'])\n",
    "train_df.set_index('Date', inplace=True, drop=True)\n",
    "test_df.set_index('Date', inplace=True, drop = True)"
   ]
  },
  {
   "cell_type": "code",
   "execution_count": 6,
   "metadata": {},
   "outputs": [],
   "source": [
    "#combine weather data with train and test sets along Date index\n",
    "train_df = pd.merge(train_df, \n",
    "                  daily_weather, \n",
    "                  left_index = True, right_index = True)\n",
    "test_df = pd.merge(test_df, \n",
    "                 daily_weather, \n",
    "                  left_index = True, right_index = True)"
   ]
  },
  {
   "cell_type": "code",
   "execution_count": 7,
   "metadata": {
    "scrolled": true
   },
   "outputs": [],
   "source": [
    "train_df.drop(['Water1','SnowFall'], axis=1, inplace=True) # dropping these columns since they provided no info\n",
    "test_df.drop(['Water1','SnowFall'], axis=1, inplace=True) # dropping these columns since they provided no info"
   ]
  },
  {
   "cell_type": "code",
   "execution_count": 8,
   "metadata": {},
   "outputs": [],
   "source": [
    "# storing mode precip value (for rows w/ numeric values) for replacement in next step\n",
    "mode_precip = float(train_df[train_df['PrecipTotal'] != '  T'].PrecipTotal.mode()[0]) "
   ]
  },
  {
   "cell_type": "code",
   "execution_count": 9,
   "metadata": {},
   "outputs": [],
   "source": [
    "# replacing '  T' with mode precip value in training set\n",
    "train_precip_totals = []\n",
    "for total in train_df.PrecipTotal:\n",
    "    if total == '  T':\n",
    "        train_precip_totals.append(mode_precip)\n",
    "    else:\n",
    "        train_precip_totals.append(total)\n",
    "\n",
    "train_df.PrecipTotal = pd.to_numeric(train_precip_totals) "
   ]
  },
  {
   "cell_type": "code",
   "execution_count": 10,
   "metadata": {},
   "outputs": [],
   "source": [
    "# replacing '  T' in test set with SAME mode precip value in training set\n",
    "test_precip_totals = []\n",
    "for total in test_df.PrecipTotal:\n",
    "    if total == '  T':\n",
    "        test_precip_totals.append(mode_precip)\n",
    "    else:\n",
    "        test_precip_totals.append(total)\n",
    "\n",
    "test_df.PrecipTotal = pd.to_numeric(test_precip_totals) "
   ]
  },
  {
   "cell_type": "code",
   "execution_count": 11,
   "metadata": {},
   "outputs": [],
   "source": [
    "# storing mode pressure (for rows with numeric value) for replacement in next step\n",
    "mode_pressure = train_df[train_df['StnPressure'] != 'M'].StnPressure.mode() "
   ]
  },
  {
   "cell_type": "code",
   "execution_count": 12,
   "metadata": {},
   "outputs": [],
   "source": [
    "# replacing 'M' with mode pressure value in train set\n",
    "train_pressures = []\n",
    "for pressure in train_df.StnPressure:\n",
    "    if pressure == 'M':\n",
    "        train_pressures.append(mode_pressure)\n",
    "    else:\n",
    "        train_pressures.append(pressure)\n",
    "train_pressures = [float(pressure) for pressure in train_pressures]\n",
    "\n",
    "train_df.StnPressure = pd.to_numeric(train_pressures) "
   ]
  },
  {
   "cell_type": "code",
   "execution_count": 13,
   "metadata": {},
   "outputs": [],
   "source": [
    "# replacing 'M' in test set with SAME mode pressure value from train set\n",
    "test_pressures = []\n",
    "for pressure in test_df.StnPressure:\n",
    "    if pressure == 'M':\n",
    "        test_pressures.append(mode_pressure)\n",
    "    else:\n",
    "        test_pressures.append(pressure)\n",
    "test_pressures = [float(pressure) for pressure in test_pressures]\n",
    "\n",
    "test_df.StnPressure = pd.to_numeric(test_pressures) # replacing 'M' with mode pressure value"
   ]
  },
  {
   "cell_type": "code",
   "execution_count": 14,
   "metadata": {},
   "outputs": [],
   "source": [
    "# these are the columns that could be numeric values but are currently object\n",
    "#new_df.dtypes\n",
    "cols_to_change = ['Tavg',\n",
    "                 'Depart',\n",
    "                 'Cool',\n",
    "                 'Sunrise',\n",
    "                 'Sunset',\n",
    "                 'Depth',\n",
    "                 'PrecipTotal',\n",
    "                 'StnPressure',\n",
    "                 'SeaLevel',\n",
    "                 'AvgSpeed'\n",
    "                 ]"
   ]
  },
  {
   "cell_type": "code",
   "execution_count": 15,
   "metadata": {},
   "outputs": [],
   "source": [
    "#changing columns above to numeric in both train and set\n",
    "for col in cols_to_change:\n",
    "    train_df[col] = pd.to_numeric(train_df[col])\n",
    "    test_df[col] = pd.to_numeric(test_df[col])"
   ]
  },
  {
   "cell_type": "code",
   "execution_count": 16,
   "metadata": {},
   "outputs": [],
   "source": [
    "# dropping NumMosquitos from training date b/c not in test set\n",
    "train_df.drop('NumMosquitos', axis = 1, inplace = True)"
   ]
  },
  {
   "cell_type": "code",
   "execution_count": 17,
   "metadata": {},
   "outputs": [],
   "source": [
    "# undersampling rows that are WNV- to balance the classes\n",
    "# resaving as train_df\n",
    "wnv1_df = train_df[train_df['WnvPresent'] == 1]\n",
    "\n",
    "wnv0_df = train_df[train_df['WnvPresent'] == 0].sample(n = wnv1_df.shape[0], random_state = 21)\n",
    "\n",
    "train_df = pd.concat([wnv1_df, wnv0_df], axis = 0)"
   ]
  },
  {
   "cell_type": "code",
   "execution_count": 18,
   "metadata": {},
   "outputs": [],
   "source": [
    "#saving Id col for submission so i can drop it from df during modeling\n",
    "submission_ids = test_df.Id\n",
    "\n",
    "test_df.drop('Id', axis = 1, inplace = True)"
   ]
  },
  {
   "cell_type": "code",
   "execution_count": 201,
   "metadata": {
    "scrolled": true
   },
   "outputs": [],
   "source": [
    "# we found that the numeric data alone performed better than\n",
    "## including dummied columns (e.g. Address)\n",
    "num_train = train_df._get_numeric_data() # training df numerical\n",
    "num_test = test_df._get_numeric_data() # test df numerical"
   ]
  },
  {
   "cell_type": "code",
   "execution_count": 202,
   "metadata": {
    "scrolled": true
   },
   "outputs": [],
   "source": [
    "# split X and y for training\n",
    "### NOTE THAT THE SPLIT WAS JUST FOR EXPLORATORY PURPOSES\n",
    "### X and y are used for model building without TTS\n",
    "X = num_train.drop('WnvPresent', axis = 1)\n",
    "y = num_train.WnvPresent"
   ]
  },
  {
   "cell_type": "code",
   "execution_count": 203,
   "metadata": {},
   "outputs": [],
   "source": [
    "# TTS so that we can check the effectiveness of our model and pick the best\n",
    "X_train, X_test, y_train, y_test = train_test_split(X,y,test_size = .25, shuffle = True)"
   ]
  },
  {
   "cell_type": "code",
   "execution_count": 204,
   "metadata": {},
   "outputs": [
    {
     "data": {
      "text/plain": [
       "StandardScaler(copy=True, with_mean=True, with_std=True)"
      ]
     },
     "execution_count": 204,
     "metadata": {},
     "output_type": "execute_result"
    }
   ],
   "source": [
    "# instantiate SS and fit on X (or X_train)\n",
    "ss = StandardScaler()\n",
    "\n",
    "ss.fit(X_train)"
   ]
  },
  {
   "cell_type": "code",
   "execution_count": 205,
   "metadata": {},
   "outputs": [],
   "source": [
    "# transform X and test data with same SS\n",
    "X_train = ss.transform(X_train)\n",
    "X_test = ss.transform(X_test)\n",
    "num_test = pd.DataFrame(ss.transform(num_test), columns=num_test.columns)"
   ]
  },
  {
   "cell_type": "code",
   "execution_count": 1,
   "metadata": {},
   "outputs": [],
   "source": [
    "#### MODELS TO TRY (Gridsearch Imported Above)\n",
    "##################################\n",
    "\n",
    "from sklearn.ensemble import RandomForestClassifier, AdaBoostClassifier, GradientBoostingClassifier"
   ]
  },
  {
   "cell_type": "markdown",
   "metadata": {},
   "source": [
    "## Random Forrest on Numerical Data"
   ]
  },
  {
   "cell_type": "code",
   "execution_count": 135,
   "metadata": {},
   "outputs": [
    {
     "data": {
      "text/plain": [
       "{'min_samples_split': 2, 'n_estimators': 10, 'random_state': 21}"
      ]
     },
     "execution_count": 135,
     "metadata": {},
     "output_type": "execute_result"
    }
   ],
   "source": [
    "rf = RandomForestClassifier(n_jobs=4)\n",
    "rf_params = {'n_estimators':[8,10,12,14,20],\n",
    "            'min_samples_split':[2,3,4],\n",
    "            'random_state':[1,21,31,100]}\n",
    "rf_gs = GridSearchCV(rf, rf_params, n_jobs=4)\n",
    "rf_gs.fit(X, y)\n",
    "rf_gs.best_params_"
   ]
  },
  {
   "cell_type": "code",
   "execution_count": 26,
   "metadata": {},
   "outputs": [],
   "source": [
    "#Create predictions\n",
    "rf_preds = rf_gs.predict(X_test)"
   ]
  },
  {
   "cell_type": "code",
   "execution_count": 27,
   "metadata": {},
   "outputs": [
    {
     "data": {
      "text/plain": [
       "(0.7412587412587412, 0.7681159420289855)"
      ]
     },
     "execution_count": 27,
     "metadata": {},
     "output_type": "execute_result"
    }
   ],
   "source": [
    "# Precision and Accuracy Scoring\n",
    "precision_score(y_test, rf_preds), accuracy_score(y_test, rf_preds)"
   ]
  },
  {
   "cell_type": "code",
   "execution_count": 28,
   "metadata": {},
   "outputs": [
    {
     "data": {
      "text/plain": [
       "(276, 276)"
      ]
     },
     "execution_count": 28,
     "metadata": {},
     "output_type": "execute_result"
    }
   ],
   "source": [
    "len(rf_preds), len(X_test)"
   ]
  },
  {
   "cell_type": "code",
   "execution_count": 45,
   "metadata": {},
   "outputs": [],
   "source": [
    "# predictions as dataframe for export\n",
    "pred_df = pd.DataFrame({'Id': submission_ids, 'WnvPresent':rf_preds})"
   ]
  },
  {
   "cell_type": "code",
   "execution_count": 47,
   "metadata": {},
   "outputs": [],
   "source": [
    "#### PREDICTION EXPORT\n",
    "#######################\n",
    "# pred_df.to_csv('./predictions1.csv', index=False)"
   ]
  },
  {
   "cell_type": "markdown",
   "metadata": {},
   "source": [
    "# THE SAME PROCESS ABOVE IS REPEATED FOR OTHER MODELS"
   ]
  },
  {
   "cell_type": "markdown",
   "metadata": {},
   "source": [
    "## AdaBoost on Numerical Data (our highest scoring kaggle submission)"
   ]
  },
  {
   "cell_type": "code",
   "execution_count": 144,
   "metadata": {},
   "outputs": [
    {
     "data": {
      "text/plain": [
       "GridSearchCV(cv=None, error_score='raise',\n",
       "       estimator=AdaBoostClassifier(algorithm='SAMME.R', base_estimator=None,\n",
       "          learning_rate=1.0, n_estimators=50, random_state=None),\n",
       "       fit_params=None, iid=True, n_jobs=4,\n",
       "       param_grid={'n_estimators': [20, 30, 40, 50, 60, 80, 100, 120], 'learning_rate': [1, 0.8, 0.4, 0.3, 0.1]},\n",
       "       pre_dispatch='2*n_jobs', refit=True, return_train_score='warn',\n",
       "       scoring=None, verbose=0)"
      ]
     },
     "execution_count": 144,
     "metadata": {},
     "output_type": "execute_result"
    }
   ],
   "source": [
    "ada = AdaBoostClassifier()\n",
    "ada_params = {'n_estimators':[20,30,40,50,60,80, 100, 120],\n",
    "             'learning_rate':[1, .8, .4,.3,.1],}\n",
    "ada_gs = GridSearchCV(ada, ada_params, n_jobs=4)\n",
    "ada_gs.fit(X_train, y_train)"
   ]
  },
  {
   "cell_type": "code",
   "execution_count": 145,
   "metadata": {},
   "outputs": [
    {
     "data": {
      "text/plain": [
       "{'learning_rate': 0.8, 'n_estimators': 100}"
      ]
     },
     "execution_count": 145,
     "metadata": {},
     "output_type": "execute_result"
    }
   ],
   "source": [
    "ada_gs.best_params_"
   ]
  },
  {
   "cell_type": "code",
   "execution_count": null,
   "metadata": {},
   "outputs": [],
   "source": [
    "#best params with train test was learning rate .8 with 100 estimators"
   ]
  },
  {
   "cell_type": "code",
   "execution_count": 178,
   "metadata": {
    "scrolled": false
   },
   "outputs": [
    {
     "data": {
      "text/plain": [
       "0    90100\n",
       "1    26193\n",
       "Name: WnvPresent, dtype: int64"
      ]
     },
     "execution_count": 178,
     "metadata": {},
     "output_type": "execute_result"
    }
   ],
   "source": [
    "#### THIS WAS THE HIGHEST SCORING MODEL\n",
    "################ SUBMISSION 3\n",
    "\n",
    "ada_model = AdaBoostClassifier(n_estimators=100, learning_rate=.8)\n",
    "ada_model.fit(X_train,y_train)\n",
    "\n",
    "ada_preds = ada_model.predict(num_test)\n",
    "\n",
    "ada_sub_df = pd.DataFrame({'Id': submission_ids, 'WnvPresent':ada_preds})\n",
    "\n",
    "#ada_sub_df.to_csv('./predictions3.csv', index=False)\n",
    "\n",
    "ada_sub_df.WnvPresent.value_counts()"
   ]
  },
  {
   "cell_type": "markdown",
   "metadata": {},
   "source": [
    "## Gradient Boost on Numerical Data"
   ]
  },
  {
   "cell_type": "code",
   "execution_count": 35,
   "metadata": {},
   "outputs": [
    {
     "data": {
      "text/plain": [
       "GridSearchCV(cv=None, error_score='raise',\n",
       "       estimator=GradientBoostingClassifier(criterion='friedman_mse', init=None,\n",
       "              learning_rate=0.1, loss='deviance', max_depth=3,\n",
       "              max_features=None, max_leaf_nodes=None,\n",
       "              min_impurity_decrease=0.0, min_impurity_split=None,\n",
       "              min_samples_leaf=1, min_samples_split=2,\n",
       "              min_weight_fraction_leaf=0.0, n_estimators=100,\n",
       "              presort='auto', random_state=None, subsample=1.0, verbose=0,\n",
       "              warm_start=False),\n",
       "       fit_params=None, iid=True, n_jobs=4,\n",
       "       param_grid={'learning_rate': [0.01, 0.05, 0.1, 0.3, 0.5], 'n_estimators': [50, 80, 100, 120], 'min_samples_split': [2, 3, 4]},\n",
       "       pre_dispatch='2*n_jobs', refit=True, return_train_score='warn',\n",
       "       scoring=None, verbose=0)"
      ]
     },
     "execution_count": 35,
     "metadata": {},
     "output_type": "execute_result"
    }
   ],
   "source": [
    "xgb = GradientBoostingClassifier()\n",
    "xgb_params = {'learning_rate':[.01, .05, .1, .3, .5],\n",
    "             'n_estimators':[50,80, 100, 120],\n",
    "             'min_samples_split':[2,3,4]}\n",
    "xgb_gs = GridSearchCV(xgb, xgb_params, n_jobs=4)\n",
    "xgb_gs.fit(X_train, y_train)"
   ]
  },
  {
   "cell_type": "code",
   "execution_count": 36,
   "metadata": {},
   "outputs": [
    {
     "data": {
      "text/plain": [
       "{'learning_rate': 0.3, 'min_samples_split': 2, 'n_estimators': 50}"
      ]
     },
     "execution_count": 36,
     "metadata": {},
     "output_type": "execute_result"
    }
   ],
   "source": [
    "xgb_gs.best_params_"
   ]
  },
  {
   "cell_type": "code",
   "execution_count": 37,
   "metadata": {},
   "outputs": [],
   "source": [
    "xgb_preds = xgb_gs.predict(X_test)"
   ]
  },
  {
   "cell_type": "code",
   "execution_count": 38,
   "metadata": {},
   "outputs": [
    {
     "data": {
      "text/plain": [
       "(0.7266187050359713, 0.7463768115942029)"
      ]
     },
     "execution_count": 38,
     "metadata": {},
     "output_type": "execute_result"
    }
   ],
   "source": [
    "precision_score(y_test, xgb_preds), accuracy_score(y_test, xgb_preds)"
   ]
  },
  {
   "cell_type": "code",
   "execution_count": 2,
   "metadata": {},
   "outputs": [
    {
     "ename": "NameError",
     "evalue": "name 'X' is not defined",
     "output_type": "error",
     "traceback": [
      "\u001b[0;31m---------------------------------------------------------------------------\u001b[0m",
      "\u001b[0;31mNameError\u001b[0m                                 Traceback (most recent call last)",
      "\u001b[0;32m<ipython-input-2-368faae8cfe9>\u001b[0m in \u001b[0;36m<module>\u001b[0;34m()\u001b[0m\n\u001b[1;32m      3\u001b[0m \u001b[0;34m\u001b[0m\u001b[0m\n\u001b[1;32m      4\u001b[0m \u001b[0mxgb_model\u001b[0m \u001b[0;34m=\u001b[0m \u001b[0mGradientBoostingClassifier\u001b[0m\u001b[0;34m(\u001b[0m\u001b[0mlearning_rate\u001b[0m\u001b[0;34m=\u001b[0m\u001b[0;36m.2\u001b[0m\u001b[0;34m,\u001b[0m \u001b[0mn_estimators\u001b[0m\u001b[0;34m=\u001b[0m\u001b[0;36m50\u001b[0m\u001b[0;34m)\u001b[0m\u001b[0;34m\u001b[0m\u001b[0m\n\u001b[0;32m----> 5\u001b[0;31m \u001b[0mxgb_model\u001b[0m\u001b[0;34m.\u001b[0m\u001b[0mfit\u001b[0m\u001b[0;34m(\u001b[0m\u001b[0mX\u001b[0m\u001b[0;34m,\u001b[0m\u001b[0my\u001b[0m\u001b[0;34m)\u001b[0m\u001b[0;34m\u001b[0m\u001b[0m\n\u001b[0m\u001b[1;32m      6\u001b[0m \u001b[0;34m\u001b[0m\u001b[0m\n\u001b[1;32m      7\u001b[0m \u001b[0mxgb_preds\u001b[0m \u001b[0;34m=\u001b[0m \u001b[0mxgb_model\u001b[0m\u001b[0;34m.\u001b[0m\u001b[0mpredict\u001b[0m\u001b[0;34m(\u001b[0m\u001b[0mnum_test\u001b[0m\u001b[0;34m)\u001b[0m\u001b[0;34m\u001b[0m\u001b[0m\n",
      "\u001b[0;31mNameError\u001b[0m: name 'X' is not defined"
     ]
    }
   ],
   "source": [
    "#### THIS WAS THE HIGHEST SCORING MODEL\n",
    "################ SUBMISSION 3\n",
    "\n",
    "xgb_model = GradientBoostingClassifier(learning_rate=.2, n_estimators=50)\n",
    "xgb_model.fit(X,y)\n",
    "\n",
    "xgb_preds = xgb_model.predict(num_test)\n",
    "\n",
    "xgb_sub_df = pd.DataFrame({'Id': submission_ids, 'WnvPresent':xgb_preds})\n",
    "\n",
    "#xgb_sub_df.to_csv('./predictions5.csv', index=False)\n",
    "\n",
    "xgb_sub_df.WnvPresent.value_counts()"
   ]
  },
  {
   "cell_type": "markdown",
   "metadata": {},
   "source": [
    "## Trying same three models on dummied data"
   ]
  },
  {
   "cell_type": "code",
   "execution_count": 40,
   "metadata": {},
   "outputs": [
    {
     "data": {
      "text/plain": [
       "Index(['Address', 'Species', 'Block', 'Street', 'Trap',\n",
       "       'AddressNumberAndStreet', 'Latitude', 'Longitude', 'AddressAccuracy',\n",
       "       'WnvPresent', 'Tmax', 'Tmin', 'Tavg', 'Depart', 'DewPoint', 'WetBulb',\n",
       "       'Heat', 'Cool', 'Sunrise', 'Sunset', 'CodeSum', 'Depth', 'PrecipTotal',\n",
       "       'StnPressure', 'SeaLevel', 'ResultSpeed', 'ResultDir', 'AvgSpeed'],\n",
       "      dtype='object')"
      ]
     },
     "execution_count": 40,
     "metadata": {},
     "output_type": "execute_result"
    }
   ],
   "source": [
    "train_df.columns"
   ]
  },
  {
   "cell_type": "code",
   "execution_count": 96,
   "metadata": {},
   "outputs": [],
   "source": [
    "dummies_df = pd.get_dummies(train_df.drop(['Address','Street'], axis = 1))\n",
    "test_dummies_df = pd.get_dummies(test_df)"
   ]
  },
  {
   "cell_type": "code",
   "execution_count": 97,
   "metadata": {},
   "outputs": [
    {
     "data": {
      "text/plain": [
       "((1102, 344), (116293, 666))"
      ]
     },
     "execution_count": 97,
     "metadata": {},
     "output_type": "execute_result"
    }
   ],
   "source": [
    "dummies_df.shape, test_dummies_df.shape"
   ]
  },
  {
   "cell_type": "code",
   "execution_count": 98,
   "metadata": {},
   "outputs": [],
   "source": [
    "X_dum = dummies_df.drop('WnvPresent', axis = 1)\n",
    "y_dum = dummies_df.WnvPresent"
   ]
  },
  {
   "cell_type": "code",
   "execution_count": 99,
   "metadata": {},
   "outputs": [],
   "source": [
    "for col in test_dummies_df.columns:\n",
    "    if col not in X_dum.columns:\n",
    "        test_dummies_df.drop(f'{col}', inplace=True, axis = 1)"
   ]
  },
  {
   "cell_type": "code",
   "execution_count": 100,
   "metadata": {},
   "outputs": [
    {
     "data": {
      "text/plain": [
       "((1102, 343), (116293, 320))"
      ]
     },
     "execution_count": 100,
     "metadata": {},
     "output_type": "execute_result"
    }
   ],
   "source": [
    "X_dum.shape, test_dummies_df.shape"
   ]
  },
  {
   "cell_type": "code",
   "execution_count": 101,
   "metadata": {},
   "outputs": [],
   "source": [
    "for col in X_dum.columns:\n",
    "    if col not in test_dummies_df.columns:\n",
    "        X_dum.drop(f'{col}', inplace=True, axis=1)"
   ]
  },
  {
   "cell_type": "code",
   "execution_count": 102,
   "metadata": {},
   "outputs": [
    {
     "data": {
      "text/plain": [
       "((1102, 320), (116293, 320))"
      ]
     },
     "execution_count": 102,
     "metadata": {},
     "output_type": "execute_result"
    }
   ],
   "source": [
    "X_dum.shape, test_dummies_df.shape"
   ]
  },
  {
   "cell_type": "code",
   "execution_count": 104,
   "metadata": {},
   "outputs": [],
   "source": [
    "Xdum_train, Xdum_test, ydum_train, ydum_test = train_test_split(X_dum, y_dum, test_size = .25)"
   ]
  },
  {
   "cell_type": "code",
   "execution_count": 105,
   "metadata": {},
   "outputs": [
    {
     "data": {
      "text/plain": [
       "StandardScaler(copy=True, with_mean=True, with_std=True)"
      ]
     },
     "execution_count": 105,
     "metadata": {},
     "output_type": "execute_result"
    }
   ],
   "source": [
    "ss_dum = StandardScaler()\n",
    "ss_dum.fit(Xdum_train)"
   ]
  },
  {
   "cell_type": "code",
   "execution_count": 106,
   "metadata": {},
   "outputs": [],
   "source": [
    "Xdum_train = ss_dum.transform(Xdum_train)\n",
    "Xdum_test = ss_dum.transform(Xdum_test)"
   ]
  },
  {
   "cell_type": "markdown",
   "metadata": {},
   "source": [
    "## Random Forrest on Dummy Data\n",
    "### Random forest had highest accuracy of 78.6% but lower precision than AdaBoost using just numerical data"
   ]
  },
  {
   "cell_type": "code",
   "execution_count": 107,
   "metadata": {},
   "outputs": [
    {
     "data": {
      "text/plain": [
       "{'min_samples_split': 5, 'n_estimators': 12}"
      ]
     },
     "execution_count": 107,
     "metadata": {},
     "output_type": "execute_result"
    }
   ],
   "source": [
    "rf_dum = RandomForestClassifier(n_jobs=4)\n",
    "rf_params = {'n_estimators':[8,10,12,14,20],\n",
    "            'min_samples_split':[2,3,4, 5,6],\n",
    "            }\n",
    "rf_dum_gs = GridSearchCV(rf_dum, rf_params, n_jobs=4)\n",
    "rf_dum_gs.fit(Xdum_train, ydum_train)\n",
    "rf_dum_gs.best_params_"
   ]
  },
  {
   "cell_type": "code",
   "execution_count": 108,
   "metadata": {},
   "outputs": [
    {
     "data": {
      "text/plain": [
       "{'min_samples_split': 5, 'n_estimators': 12}"
      ]
     },
     "execution_count": 108,
     "metadata": {},
     "output_type": "execute_result"
    }
   ],
   "source": [
    "rf_dum_gs.best_params_"
   ]
  },
  {
   "cell_type": "code",
   "execution_count": 109,
   "metadata": {},
   "outputs": [],
   "source": [
    "rf_dum_preds = rf_dum_gs.predict(Xdum_test)"
   ]
  },
  {
   "cell_type": "code",
   "execution_count": 110,
   "metadata": {},
   "outputs": [
    {
     "data": {
      "text/plain": [
       "(0.5847953216374269, 0.6630434782608695)"
      ]
     },
     "execution_count": 110,
     "metadata": {},
     "output_type": "execute_result"
    }
   ],
   "source": [
    "precision_score(ydum_test, rf_dum_preds), accuracy_score(ydum_test, rf_dum_preds)"
   ]
  },
  {
   "cell_type": "markdown",
   "metadata": {},
   "source": [
    "## AdaBoost on Dummy Data"
   ]
  },
  {
   "cell_type": "code",
   "execution_count": 113,
   "metadata": {
    "scrolled": true
   },
   "outputs": [
    {
     "data": {
      "text/plain": [
       "GridSearchCV(cv=None, error_score='raise',\n",
       "       estimator=AdaBoostClassifier(algorithm='SAMME.R', base_estimator=None,\n",
       "          learning_rate=1.0, n_estimators=50, random_state=None),\n",
       "       fit_params=None, iid=True, n_jobs=4,\n",
       "       param_grid={'n_estimators': [30, 40, 50, 60, 80, 100, 120], 'learning_rate': [1, 0.8, 0.4, 0.1]},\n",
       "       pre_dispatch='2*n_jobs', refit=True, return_train_score='warn',\n",
       "       scoring=None, verbose=0)"
      ]
     },
     "execution_count": 113,
     "metadata": {},
     "output_type": "execute_result"
    }
   ],
   "source": [
    "ada_dum = AdaBoostClassifier()\n",
    "ada_dum_params = {'n_estimators':[30,40,50,60,80],\n",
    "             'learning_rate':[1, .9, .8,.4,.1],}\n",
    "ada_dum_gs = GridSearchCV(ada_dum, ada_params, n_jobs=4)\n",
    "ada_dum_gs.fit(Xdum_train, ydum_train)"
   ]
  },
  {
   "cell_type": "code",
   "execution_count": 114,
   "metadata": {},
   "outputs": [
    {
     "data": {
      "text/plain": [
       "{'learning_rate': 1, 'n_estimators': 40}"
      ]
     },
     "execution_count": 114,
     "metadata": {},
     "output_type": "execute_result"
    }
   ],
   "source": [
    "ada_dum_gs.best_params_"
   ]
  },
  {
   "cell_type": "code",
   "execution_count": 115,
   "metadata": {},
   "outputs": [],
   "source": [
    "ada_dum_preds = ada_dum_gs.predict(Xdum_test)"
   ]
  },
  {
   "cell_type": "code",
   "execution_count": 116,
   "metadata": {},
   "outputs": [
    {
     "data": {
      "text/plain": [
       "(0.5882352941176471, 0.6666666666666666)"
      ]
     },
     "execution_count": 116,
     "metadata": {},
     "output_type": "execute_result"
    }
   ],
   "source": [
    "precision_score(ydum_test, ada_dum_preds), accuracy_score(ydum_test, ada_dum_preds)"
   ]
  },
  {
   "cell_type": "markdown",
   "metadata": {},
   "source": [
    "## Gradient Boost on Dummy Data"
   ]
  },
  {
   "cell_type": "code",
   "execution_count": 117,
   "metadata": {},
   "outputs": [
    {
     "data": {
      "text/plain": [
       "GridSearchCV(cv=None, error_score='raise',\n",
       "       estimator=GradientBoostingClassifier(criterion='friedman_mse', init=None,\n",
       "              learning_rate=0.1, loss='deviance', max_depth=3,\n",
       "              max_features=None, max_leaf_nodes=None,\n",
       "              min_impurity_decrease=0.0, min_impurity_split=None,\n",
       "              min_samples_leaf=1, min_samples_split=2,\n",
       "              min_weight_fraction_leaf=0.0, n_estimators=100,\n",
       "              presort='auto', random_state=None, subsample=1.0, verbose=0,\n",
       "              warm_start=False),\n",
       "       fit_params=None, iid=True, n_jobs=4,\n",
       "       param_grid={'learning_rate': [0.005, 0.01, 0.05, 0.1, 0.3, 0.5], 'n_estimators': [5, 20, 30, 40, 50, 80, 100, 120, 150]},\n",
       "       pre_dispatch='2*n_jobs', refit=True, return_train_score='warn',\n",
       "       scoring=None, verbose=0)"
      ]
     },
     "execution_count": 117,
     "metadata": {},
     "output_type": "execute_result"
    }
   ],
   "source": [
    "xgb_dum = GradientBoostingClassifier()\n",
    "xgb_dum_params = {'learning_rate':[.005,.01, .05, .1, .3, .5],\n",
    "             'n_estimators':[5, 20, 30, 40,50,80, 100, 120, 150]}\n",
    "xgb_dum_gs = GridSearchCV(xgb_dum, xgb_dum_params, n_jobs=4)\n",
    "xgb_dum_gs.fit(Xdum_train, ydum_train)"
   ]
  },
  {
   "cell_type": "code",
   "execution_count": 78,
   "metadata": {},
   "outputs": [
    {
     "data": {
      "text/plain": [
       "GradientBoostingClassifier(criterion='friedman_mse', init=None,\n",
       "              learning_rate=0.3, loss='deviance', max_depth=3,\n",
       "              max_features=None, max_leaf_nodes=None,\n",
       "              min_impurity_decrease=0.0, min_impurity_split=None,\n",
       "              min_samples_leaf=1, min_samples_split=2,\n",
       "              min_weight_fraction_leaf=0.0, n_estimators=50,\n",
       "              presort='auto', random_state=None, subsample=1.0, verbose=0,\n",
       "              warm_start=False)"
      ]
     },
     "execution_count": 78,
     "metadata": {},
     "output_type": "execute_result"
    }
   ],
   "source": [
    "xgb_dum_sub = GradientBoostingClassifier(learning_rate=.3, n_estimators=50)\n",
    "xgb_dum_sub.fit(X,y)"
   ]
  },
  {
   "cell_type": "code",
   "execution_count": 121,
   "metadata": {},
   "outputs": [],
   "source": [
    "xgb_dum_preds = xgb_dum_gs.predict(Xdum_test)"
   ]
  },
  {
   "cell_type": "code",
   "execution_count": null,
   "metadata": {},
   "outputs": [],
   "source": [
    "xgb_dum_pred_df = pd.DataFrame({'Id': submission_ids, 'WnvPresent':xgb_preds})\n",
    "\n",
    "#xgb_pred_df.to_csv('./predictions2.csv', index=False)"
   ]
  },
  {
   "cell_type": "code",
   "execution_count": 122,
   "metadata": {},
   "outputs": [
    {
     "data": {
      "text/plain": [
       "(0.6037735849056604, 0.677536231884058)"
      ]
     },
     "execution_count": 122,
     "metadata": {},
     "output_type": "execute_result"
    }
   ],
   "source": [
    "precision_score(ydum_test, xgb_dum_preds), accuracy_score(ydum_test, xgb_dum_preds)"
   ]
  },
  {
   "cell_type": "markdown",
   "metadata": {},
   "source": [
    "# Logistic Regression with Pipeline"
   ]
  },
  {
   "cell_type": "code",
   "execution_count": null,
   "metadata": {},
   "outputs": [],
   "source": [
    "X = df.drop(columns = ['WnvPresent', 'Address', \n",
    "                           'Species', 'Street', 'Trap', \n",
    "                           'AddressNumberAndStreet', 'WetBulb'\n",
    "                           , 'Heat', 'CodeSum'],\n",
    "                            axis = 1)\n",
    "y = df['WnvPresent']\n",
    "\n",
    "X_train, X_test, y_train, y_test = train_test_split(X, y, \n",
    "                                                   test_size = 0.33, \n",
    "                                                   random_state = 42)\n",
    "\n",
    "# Instantiating Preprocessing and Model \n",
    "lr = LogisticRegression()\n",
    "ss = StandardScaler()\n",
    "\n",
    "# Setting up Pipeline \n",
    "\n",
    "lr_pipe = Pipeline([\n",
    "    ('ss', ss),\n",
    "    ('lr', lr)\n",
    "])\n",
    "\n",
    "# Setting up Parameter Dictionary \n",
    "gs_lr_params = {\n",
    "    'lr__penalty': ['l1', 'l2'], \n",
    "    'lr__C': [0.5, 1.0, 1.2]\n",
    "}\n",
    "\n",
    "# Instantiating and Fitting my Grid Search\n",
    "gs_lr = GridSearchCV(lr_pipe, param_grid=gs_lr_params)\n",
    "gs_lr.fit(X_train, y_train);\n",
    "\n",
    "print(\"Best Params:\", gs_lr.best_params_)\n",
    "print(\"Best Train Score:\", gs_lr.best_score_ )\n",
    "print(\"Best Test Score:\", gs_lr.score(X_test, y_test) )"
   ]
  },
  {
   "cell_type": "code",
   "execution_count": null,
   "metadata": {},
   "outputs": [],
   "source": []
  }
 ],
 "metadata": {
  "kernelspec": {
   "display_name": "Python 3",
   "language": "python",
   "name": "python3"
  },
  "language_info": {
   "codemirror_mode": {
    "name": "ipython",
    "version": 3
   },
   "file_extension": ".py",
   "mimetype": "text/x-python",
   "name": "python",
   "nbconvert_exporter": "python",
   "pygments_lexer": "ipython3",
   "version": "3.6.5"
  }
 },
 "nbformat": 4,
 "nbformat_minor": 2
}
